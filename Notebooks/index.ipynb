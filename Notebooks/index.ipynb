{
 "cells": [
  {
   "cell_type": "markdown",
   "metadata": {},
   "source": [
    "## Core ROS Tutorials"
   ]
  },
  {
   "cell_type": "markdown",
   "metadata": {},
   "source": [
    "### Beginner Level"
   ]
  },
  {
   "cell_type": "markdown",
   "metadata": {},
   "source": [
    "#### [Understanding ROS nodes](core_tutorials/ROS Nodes.ipynb)\n",
    "\n",
    "This tutorial introduces ROS graph concepts and discusses the use of roscore, rosnode, and rosrun commandline tools."
   ]
  },
  {
   "cell_type": "markdown",
   "metadata": {},
   "source": [
    "#### [Understanding ROS Topics](core_tutorials/ROS Topics.ipynb)\n",
    "\n",
    "This tutorial introduces ROS topics as well as using the rostopic and rqt_plot commandline tools."
   ]
  },
  {
   "cell_type": "markdown",
   "metadata": {},
   "source": [
    "#### [Understanding ROS Services and Parameters](core_tutorials/ROS Services and Parameters.ipynb)\n",
    "\n",
    "This tutorial introduces ROS services, and parameters as well as using the rosservice and rosparam commandline tools. "
   ]
  },
  {
   "cell_type": "markdown",
   "metadata": {},
   "source": [
    "#### Writing a Simple [Publisher](http://192.168.99.100:8888/notebooks/core_tutorials/Writing%20the%20Publisher%20Node%20in%20Python.ipynb) and [Subscriber](http://192.168.99.100:8888/notebooks/core_tutorials/Writing%20the%20Subscriber%20Node%20in%20Python.ipynb) (Python)\n",
    "This tutorial covers how to write a publisher and subscriber node in python."
   ]
  },
  {
   "cell_type": "markdown",
   "metadata": {},
   "source": [
    "## Stage Tutorials"
   ]
  },
  {
   "cell_type": "markdown",
   "metadata": {},
   "source": [
    "#### [Simulating One Robot in Stage](stage_tutorials/Simulating One Robot.ipynb)\n",
    "\n",
    "This tutorial shows you how to use the Stage simulator to simulate a single, Erratic-like robot, roaming an environment that looks a lot like the Willow Garage building."
   ]
  },
  {
   "cell_type": "markdown",
   "metadata": {},
   "source": [
    "## SLAM gmapping Tutorials"
   ]
  },
  {
   "cell_type": "markdown",
   "metadata": {},
   "source": [
    "#### [How to Build a Map Using Logged Data](slam_tutorials/How to Build a Map Using Logged Data.ipynb)\n",
    "This tutorial shows you how to create a 2-D map from logged transform and laser scan data."
   ]
  }
 ],
 "metadata": {
  "kernelspec": {
   "display_name": "Python 2",
   "language": "python",
   "name": "python2"
  },
  "language_info": {
   "codemirror_mode": {
    "name": "ipython",
    "version": 2
   },
   "file_extension": ".py",
   "mimetype": "text/x-python",
   "name": "python",
   "nbconvert_exporter": "python",
   "pygments_lexer": "ipython2",
   "version": "2.7.12"
  }
 },
 "nbformat": 4,
 "nbformat_minor": 2
}
